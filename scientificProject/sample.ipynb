{
 "cells": [
  {
   "metadata": {},
   "cell_type": "markdown",
   "source": [
    "# This is a sample Jupyter Notebook\n",
    "\n",
    "Below is an example of a code cell. \n",
    "Put your cursor into the cell and press Shift+Enter to execute it and select the next one, or click !here goes the icon of the corresponding button in the gutter! button.\n",
    "To debug a cell, press Alt+Shift+Enter, or click !here goes the icon of the corresponding button in the gutter! button.\n",
    "\n",
    "Press Double Shift to search everywhere for classes, files, tool windows, actions, and settings.\n",
    "\n",
    "To learn more about Jupyter Notebooks in PyCharm, see [help](https://www.jetbrains.com/help/pycharm/jupyter-notebook-support.html).\n",
    "For an overview of PyCharm, go to Help -> Learn IDE features or refer to [our documentation](https://www.jetbrains.com/help/pycharm/getting-started.html)."
   ],
   "id": "8a77807f92f26ee"
  },
  {
   "metadata": {
    "ExecuteTime": {
     "end_time": "2024-08-25T11:15:28.513488Z",
     "start_time": "2024-08-25T11:15:28.509773Z"
    }
   },
   "cell_type": "code",
   "source": "",
   "id": "b839e9e81869f2e",
   "outputs": [],
   "execution_count": 3
  },
  {
   "metadata": {
    "ExecuteTime": {
     "end_time": "2024-08-25T11:15:28.571045Z",
     "start_time": "2024-08-25T11:15:28.540033Z"
    }
   },
   "cell_type": "code",
   "source": [
    "import yfinance as yf\n",
    "\n",
    "# Download Tesla stock data\n",
    "tesla_data = yf.download('TSLA', start='2020-01-01', end='2023-01-01')\n",
    "\n",
    "# Reset index\n",
    "tesla_data.reset_index(inplace=True)\n",
    "\n",
    "# Save and display the first five rows\n",
    "tesla_data.head()\n"
   ],
   "id": "fbc121e30a2defb3",
   "outputs": [
    {
     "name": "stderr",
     "output_type": "stream",
     "text": [
      "[*********************100%***********************]  1 of 1 completed\n"
     ]
    },
    {
     "data": {
      "text/plain": [
       "        Date       Open       High        Low      Close  Adj Close     Volume\n",
       "0 2020-01-02  28.299999  28.713333  28.114000  28.684000  28.684000  142981500\n",
       "1 2020-01-03  29.366667  30.266666  29.128000  29.534000  29.534000  266677500\n",
       "2 2020-01-06  29.364668  30.104000  29.333332  30.102667  30.102667  151995000\n",
       "3 2020-01-07  30.760000  31.441999  30.224001  31.270666  31.270666  268231500\n",
       "4 2020-01-08  31.580000  33.232666  31.215334  32.809334  32.809334  467164500"
      ],
      "text/html": [
       "<div>\n",
       "<style scoped>\n",
       "    .dataframe tbody tr th:only-of-type {\n",
       "        vertical-align: middle;\n",
       "    }\n",
       "\n",
       "    .dataframe tbody tr th {\n",
       "        vertical-align: top;\n",
       "    }\n",
       "\n",
       "    .dataframe thead th {\n",
       "        text-align: right;\n",
       "    }\n",
       "</style>\n",
       "<table border=\"1\" class=\"dataframe\">\n",
       "  <thead>\n",
       "    <tr style=\"text-align: right;\">\n",
       "      <th></th>\n",
       "      <th>Date</th>\n",
       "      <th>Open</th>\n",
       "      <th>High</th>\n",
       "      <th>Low</th>\n",
       "      <th>Close</th>\n",
       "      <th>Adj Close</th>\n",
       "      <th>Volume</th>\n",
       "    </tr>\n",
       "  </thead>\n",
       "  <tbody>\n",
       "    <tr>\n",
       "      <th>0</th>\n",
       "      <td>2020-01-02</td>\n",
       "      <td>28.299999</td>\n",
       "      <td>28.713333</td>\n",
       "      <td>28.114000</td>\n",
       "      <td>28.684000</td>\n",
       "      <td>28.684000</td>\n",
       "      <td>142981500</td>\n",
       "    </tr>\n",
       "    <tr>\n",
       "      <th>1</th>\n",
       "      <td>2020-01-03</td>\n",
       "      <td>29.366667</td>\n",
       "      <td>30.266666</td>\n",
       "      <td>29.128000</td>\n",
       "      <td>29.534000</td>\n",
       "      <td>29.534000</td>\n",
       "      <td>266677500</td>\n",
       "    </tr>\n",
       "    <tr>\n",
       "      <th>2</th>\n",
       "      <td>2020-01-06</td>\n",
       "      <td>29.364668</td>\n",
       "      <td>30.104000</td>\n",
       "      <td>29.333332</td>\n",
       "      <td>30.102667</td>\n",
       "      <td>30.102667</td>\n",
       "      <td>151995000</td>\n",
       "    </tr>\n",
       "    <tr>\n",
       "      <th>3</th>\n",
       "      <td>2020-01-07</td>\n",
       "      <td>30.760000</td>\n",
       "      <td>31.441999</td>\n",
       "      <td>30.224001</td>\n",
       "      <td>31.270666</td>\n",
       "      <td>31.270666</td>\n",
       "      <td>268231500</td>\n",
       "    </tr>\n",
       "    <tr>\n",
       "      <th>4</th>\n",
       "      <td>2020-01-08</td>\n",
       "      <td>31.580000</td>\n",
       "      <td>33.232666</td>\n",
       "      <td>31.215334</td>\n",
       "      <td>32.809334</td>\n",
       "      <td>32.809334</td>\n",
       "      <td>467164500</td>\n",
       "    </tr>\n",
       "  </tbody>\n",
       "</table>\n",
       "</div>"
      ]
     },
     "execution_count": 4,
     "metadata": {},
     "output_type": "execute_result"
    }
   ],
   "execution_count": 4
  },
  {
   "metadata": {
    "ExecuteTime": {
     "end_time": "2024-08-25T11:15:28.574211Z",
     "start_time": "2024-08-25T11:15:28.571045Z"
    }
   },
   "cell_type": "code",
   "source": "",
   "id": "e514be7e0fea1e09",
   "outputs": [],
   "execution_count": 4
  },
  {
   "metadata": {
    "ExecuteTime": {
     "end_time": "2024-08-25T11:20:43.149373Z",
     "start_time": "2024-08-25T11:20:43.041436Z"
    }
   },
   "cell_type": "code",
   "source": [
    "import requests\n",
    "from bs4 import BeautifulSoup\n",
    "import pandas as pd\n",
    "\n",
    "# URL of the page with Tesla revenue data\n",
    "url = \"https://www.macrotrends.net/stocks/charts/TSLA/tesla/revenue\"\n",
    "\n",
    "# Fetch the page content\n",
    "html_data = requests.get(url).text\n",
    "\n",
    "# Parse the HTML data using BeautifulSoup\n",
    "soup = BeautifulSoup(html_data, \"html5lib\")\n",
    "\n",
    "# Create an empty DataFrame with columns 'Date' and 'Revenue'\n",
    "tesla_revenue = pd.DataFrame(columns=['Date', 'Revenue'])\n",
    "\n",
    "# Find the table with Tesla Quarterly Revenue\n",
    "for table in soup.find_all('table'):\n",
    "    if 'Tesla Quarterly Revenue' in table.find('th').text:\n",
    "        rows = table.find_all('tr')\n",
    "        \n",
    "        for row in rows:\n",
    "            col = row.find_all('td')\n",
    "            \n",
    "            if col != []:\n",
    "                date = col[0].text\n",
    "                revenue = col[1].text.replace(',', '').replace('$', '')\n",
    "\n",
    "                # Append the data to the DataFrame\n",
    "                tesla_revenue = tesla_revenue.append({\"Date\": date, \"Revenue\": revenue}, ignore_index=True)\n",
    "\n",
    "# Remove commas and dollar signs from the 'Revenue' column using a raw string for the regex\n",
    "tesla_revenue[\"Revenue\"] = tesla_revenue['Revenue'].str.replace(r',|\\$', \"\", regex=True)\n",
    "\n",
    "# Remove any null or empty strings in the 'Revenue' column\n",
    "tesla_revenue.dropna(inplace=True)\n",
    "tesla_revenue = tesla_revenue[tesla_revenue['Revenue'] != \"\"]\n",
    "\n",
    "# Display the last 5 rows of the DataFrame\n",
    "print(tesla_revenue.tail())\n"
   ],
   "id": "c82ca71371dacb09",
   "outputs": [
    {
     "name": "stdout",
     "output_type": "stream",
     "text": [
      "Empty DataFrame\n",
      "Columns: [Date, Revenue]\n",
      "Index: []\n"
     ]
    }
   ],
   "execution_count": 9
  },
  {
   "metadata": {
    "ExecuteTime": {
     "end_time": "2024-08-25T11:15:28.631978Z",
     "start_time": "2024-08-25T11:15:28.631978Z"
    }
   },
   "cell_type": "code",
   "source": "",
   "id": "17d1f9c5d68cd89f",
   "outputs": [],
   "execution_count": null
  },
  {
   "metadata": {},
   "cell_type": "code",
   "outputs": [],
   "execution_count": null,
   "source": "",
   "id": "6d7c7233432dfd21"
  },
  {
   "metadata": {
    "ExecuteTime": {
     "end_time": "2024-08-25T11:15:33.038748Z",
     "start_time": "2024-08-25T11:15:32.701851Z"
    }
   },
   "cell_type": "code",
   "source": [
    "# Download GameStop stock data\n",
    "gme_data = yf.download('GME', start='2020-01-01', end='2023-01-01')\n",
    "\n",
    "# Reset index\n",
    "gme_data.reset_index(inplace=True)\n",
    "\n",
    "# Save and display the first five rows\n",
    "gme_data.head()\n"
   ],
   "id": "8fa26a86f69b6023",
   "outputs": [
    {
     "name": "stderr",
     "output_type": "stream",
     "text": [
      "[*********************100%***********************]  1 of 1 completed\n"
     ]
    },
    {
     "data": {
      "text/plain": [
       "        Date    Open    High     Low   Close  Adj Close    Volume\n",
       "0 2020-01-02  1.5350  1.6175  1.5175  1.5775     1.5775  17814400\n",
       "1 2020-01-03  1.5525  1.5625  1.4600  1.4700     1.4700  14175600\n",
       "2 2020-01-06  1.4500  1.4775  1.4000  1.4625     1.4625  13579200\n",
       "3 2020-01-07  1.4425  1.4575  1.3600  1.3800     1.3800  20912000\n",
       "4 2020-01-08  1.3725  1.4625  1.3525  1.4300     1.4300  22517600"
      ],
      "text/html": [
       "<div>\n",
       "<style scoped>\n",
       "    .dataframe tbody tr th:only-of-type {\n",
       "        vertical-align: middle;\n",
       "    }\n",
       "\n",
       "    .dataframe tbody tr th {\n",
       "        vertical-align: top;\n",
       "    }\n",
       "\n",
       "    .dataframe thead th {\n",
       "        text-align: right;\n",
       "    }\n",
       "</style>\n",
       "<table border=\"1\" class=\"dataframe\">\n",
       "  <thead>\n",
       "    <tr style=\"text-align: right;\">\n",
       "      <th></th>\n",
       "      <th>Date</th>\n",
       "      <th>Open</th>\n",
       "      <th>High</th>\n",
       "      <th>Low</th>\n",
       "      <th>Close</th>\n",
       "      <th>Adj Close</th>\n",
       "      <th>Volume</th>\n",
       "    </tr>\n",
       "  </thead>\n",
       "  <tbody>\n",
       "    <tr>\n",
       "      <th>0</th>\n",
       "      <td>2020-01-02</td>\n",
       "      <td>1.5350</td>\n",
       "      <td>1.6175</td>\n",
       "      <td>1.5175</td>\n",
       "      <td>1.5775</td>\n",
       "      <td>1.5775</td>\n",
       "      <td>17814400</td>\n",
       "    </tr>\n",
       "    <tr>\n",
       "      <th>1</th>\n",
       "      <td>2020-01-03</td>\n",
       "      <td>1.5525</td>\n",
       "      <td>1.5625</td>\n",
       "      <td>1.4600</td>\n",
       "      <td>1.4700</td>\n",
       "      <td>1.4700</td>\n",
       "      <td>14175600</td>\n",
       "    </tr>\n",
       "    <tr>\n",
       "      <th>2</th>\n",
       "      <td>2020-01-06</td>\n",
       "      <td>1.4500</td>\n",
       "      <td>1.4775</td>\n",
       "      <td>1.4000</td>\n",
       "      <td>1.4625</td>\n",
       "      <td>1.4625</td>\n",
       "      <td>13579200</td>\n",
       "    </tr>\n",
       "    <tr>\n",
       "      <th>3</th>\n",
       "      <td>2020-01-07</td>\n",
       "      <td>1.4425</td>\n",
       "      <td>1.4575</td>\n",
       "      <td>1.3600</td>\n",
       "      <td>1.3800</td>\n",
       "      <td>1.3800</td>\n",
       "      <td>20912000</td>\n",
       "    </tr>\n",
       "    <tr>\n",
       "      <th>4</th>\n",
       "      <td>2020-01-08</td>\n",
       "      <td>1.3725</td>\n",
       "      <td>1.4625</td>\n",
       "      <td>1.3525</td>\n",
       "      <td>1.4300</td>\n",
       "      <td>1.4300</td>\n",
       "      <td>22517600</td>\n",
       "    </tr>\n",
       "  </tbody>\n",
       "</table>\n",
       "</div>"
      ]
     },
     "execution_count": 6,
     "metadata": {},
     "output_type": "execute_result"
    }
   ],
   "execution_count": 6
  },
  {
   "metadata": {
    "ExecuteTime": {
     "end_time": "2024-08-25T11:25:38.579336Z",
     "start_time": "2024-08-25T11:25:38.471869Z"
    }
   },
   "cell_type": "code",
   "source": [
    "import matplotlib.pyplot as plt\n",
    "\n",
    "def make_graph(data, title):\n",
    "    plt.figure(figsize=(12, 6))\n",
    "    plt.plot(data['Date'], data['Close'], label='Close Price')\n",
    "    plt.xlabel('Date')\n",
    "    plt.ylabel('Price')\n",
    "    plt.title(title)\n",
    "    plt.legend()\n",
    "    plt.grid(True)\n",
    "    plt.show()\n",
    "\n",
    "# Plot Tesla Stock Data\n",
    "make_graph(gme_data, 'GameStop Stock Graph')\n"
   ],
   "id": "f70e81862ee6d221",
   "outputs": [
    {
     "data": {
      "text/plain": [
       "<Figure size 1200x600 with 1 Axes>"
      ],
      "image/png": "[encoded data removed]"
     },
     "metadata": {},
     "output_type": "display_data"
    }
   ],
   "execution_count": 14
  },
  {
   "metadata": {},
   "cell_type": "code",
   "outputs": [],
   "execution_count": null,
   "source": "",
   "id": "ed37478293f06cea"
  }
 ],
 "metadata": {
  "kernelspec": {
   "display_name": "Python 3",
   "language": "python",
   "name": "python3"
  },
  "language_info": {
   "codemirror_mode": {
    "name": "ipython",
    "version": 2
   },
   "file_extension": ".py",
   "mimetype": "text/x-python",
   "name": "python",
   "nbconvert_exporter": "python",
   "pygments_lexer": "ipython2",
   "version": "2.7.6"
  }
 },
 "nbformat": 4,
 "nbformat_minor": 5
}
